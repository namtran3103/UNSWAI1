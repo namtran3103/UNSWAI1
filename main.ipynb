{
  "cells": [
    {
      "cell_type": "code",
      "execution_count": 1,
      "metadata": {
        "id": "Cf54zt3bn8kn"
      },
      "outputs": [
        {
          "name": "stdout",
          "output_type": "stream",
          "text": [
            "['year', 'month', 'u10', 'v10', 'mx2t', 'mn2t', 'tcc', 't2', 'msl', 't', 'q', 'u', 'v', 'z', 'SPI', 'grid_ID', 'Drought']\n",
            "15121\n",
            "year\n",
            "15120\n",
            "15120\n",
            "14731\n",
            "[ 1.98200000e+03  6.00000000e+00  6.57238476e-01  1.80842424e+00\n",
            "  2.90487842e+02  2.78613574e+02  1.50551449e-01  2.83822708e+02\n",
            "  1.02146522e+05  2.83121229e+02  4.04514790e-03 -4.02703925e-01\n",
            "  1.22710012e-01  1.59993444e+03 -2.65131761e+00  3.33000000e+02\n",
            "  1.00000000e+00]\n",
            "14731\n",
            "[ 1.98200000e+03  6.00000000e+00  6.57238476e-01  1.80842424e+00\n",
            "  2.90487842e+02  2.78613574e+02  1.50551449e-01  2.83822708e+02\n",
            "  1.02146522e+05  2.83121229e+02  4.04514790e-03 -4.02703925e-01\n",
            "  1.22710012e-01  1.59993444e+03 -2.65131761e+00  3.33000000e+02\n",
            "  1.00000000e+00 -8.66025404e-01  5.00000000e-01]\n",
            "14731\n",
            "14731\n"
          ]
        },
        {
          "data": {
            "text/plain": [
              "'\\ndef check_empty_values(data):\\n    \\n    \\ncheck_empty_values(train_data)\\ncheck_empty_values(val_data)    \\ncheck_empty_values(test_data)\\n'"
            ]
          },
          "execution_count": 1,
          "metadata": {},
          "output_type": "execute_result"
        }
      ],
      "source": [
        "import numpy as np\n",
        "import matplotlib.pyplot as plt\n",
        "from keras.models import Sequential\n",
        "from keras.layers import Dense\n",
        "from keras.optimizers import Adam\n",
        "from keras.optimizers import SGD\n",
        "\n",
        "import csv\n",
        "\n",
        "\n",
        "#numpy stretching and slicing    \n",
        "    \n",
        "#print size of data[0]\n",
        "#Data [['year', 'month', 'u10', 'v10', 'mx2t', 'mn2t', 'tcc', 't2', 'msl', 't', 'q', 'u', 'v', 'z', 'SPI', 'grid_ID'],...]\n",
        "#print((data[0]))\n",
        "\n",
        "#a) SPI to Drought, SPI <=-1 is drought, SPI >-1 is no drought\n",
        "#modify data list by adding drought variable, später vll entfernen erste zeile data[0]\n",
        "#data[0].append('Drought')\n",
        "#get rid of first row\n",
        "\n",
        "#Data [['year', 'month', 'u10', 'v10', 'mx2t', 'mn2t', 'tcc', 't2', 'msl', 't', 'q', 'u', 'v', 'z', 'SPI', 'grid_ID','Drought'],...]\n",
        "#forbidden indices: SPI, Drought, year, grid_ID -> 14, 15, 0, 16\n",
        "\n",
        "forbiddenColumns = [0, 14, 15, 16]\n",
        "\n",
        "def drought(data):\n",
        "    for x in data:\n",
        "        try:\n",
        "            if float(x[14]) <= -1:\n",
        "                x.append(1)\n",
        "            else:\n",
        "                x.append(0)\n",
        "        except:\n",
        "            x.append('Drought')\n",
        "    return data\n",
        "\n",
        "'''\n",
        "def check_np_empty_nonNum_values(data):\n",
        "    for x in data:\n",
        "        for y in x:\n",
        "            try:\n",
        "                float(y)\n",
        "            except:\n",
        "                index = np.where(data == x)\n",
        "                #print the row\n",
        "                print(index)\n",
        "                data = np.delete(data, index, axis=0)\n",
        "                break\n",
        "    return data\n",
        "'''\n",
        "def checkNonFloatNonNP(data):\n",
        "    for x in data:\n",
        "        for y in x:\n",
        "            try:\n",
        "                float(y)\n",
        "            except:\n",
        "                print(y)\n",
        "                data.remove(x)\n",
        "                break\n",
        "\n",
        "def filterInvalidMonthsNP(data):\n",
        "    new_data = []\n",
        "    validMonths = [1,2,3,4,5,6,7,8,9,10,11,12]\n",
        "    for x in data:\n",
        "        if x[1] in validMonths:\n",
        "            new_data.append(x)\n",
        "    return np.array(new_data)\n",
        "\n",
        "def lineCount(data):\n",
        "    count = 0\n",
        "    for x in data:\n",
        "        count += 1\n",
        "    return count\n",
        "\n",
        "def normaliseMonth(dataSet):\n",
        "    new_dataSet = []\n",
        "    for x in dataSet:\n",
        "        month = x[1]\n",
        "        month_normalised = 2 * np.pi * (month - 1) / 12\n",
        "        x = np.append(x, [np.cos(month_normalised), np.sin(month_normalised)])\n",
        "        #new_dataSet.append(np.delete(x, 1))\n",
        "        new_dataSet.append(x)\n",
        "    return np.array(new_dataSet)\n",
        "\n",
        "def noIncludeInfinites(data):\n",
        "    new_data = []\n",
        "    detected = False\n",
        "    for x in data:\n",
        "        for y in x:\n",
        "            if y == float('inf') or y == float('-inf'):\n",
        "                detected = True\n",
        "                break\n",
        "        if detected == False:\n",
        "            new_data.append(x)\n",
        "    return np.array(new_data)\n",
        "\n",
        "def detect_outliers(data):    \n",
        "    # Calculate the mean and standard deviation for each column\n",
        "    mean = np.mean(data, axis=0)\n",
        "    std_dev = np.std(data, axis=0)\n",
        "    \n",
        "    \n",
        "    # Calculate the Z-score for each data point\n",
        "    z_scores = (data - mean) / std_dev\n",
        "    \n",
        "    # Identify outliers (Z-score > 3 or Z-score < -3)\n",
        "    outliers = np.abs(z_scores) > 3\n",
        "    #print(outliers)\n",
        "    \n",
        "    # Get the indices of the outliers\n",
        "    outlier_indices = np.where(outliers)\n",
        "    \n",
        "    #count how many outliers\n",
        "    count = 0\n",
        "    for x in outliers:\n",
        "        for y in x:\n",
        "            if y == True:\n",
        "                count += 1\n",
        "                break\n",
        "    print(count)\n",
        "    \n",
        "    county = 0\n",
        "    for x in outlier_indices[1]:\n",
        "        if x in forbiddenColumns:\n",
        "            county += 1\n",
        "    print(county)\n",
        "    print(count-county)\n",
        "    return outlier_indices\n",
        "\n",
        "def detectOutliersByColumn(data, column):\n",
        "    mean = np.mean(data[:, column])\n",
        "    std_dev = np.std(data[:, column])\n",
        "    z_scores = (data[:, column] - mean) / std_dev\n",
        "    outliers = np.abs(z_scores) > 3\n",
        "    outlier_indices = np.where(outliers)\n",
        "    #count and print outlierindices\n",
        "    #print(len(outlier_indices[0]))\n",
        "    return outlier_indices\n",
        "\n",
        "def removeOutliers(data, excludedColumns):\n",
        "    outliersIndices = set()\n",
        "    for i in range(0, len(data[0])):\n",
        "        if i not in excludedColumns:\n",
        "            outlierIndicesColumn = detectOutliersByColumn(data, i)\n",
        "            for x in outlierIndicesColumn[0]:\n",
        "                outliersIndices.add(x)\n",
        "\n",
        "    outliersIndices = list(outliersIndices)\n",
        "    outliersIndices.sort()\n",
        "    #print(outliersIndices)\n",
        "    data = np.delete(data, outliersIndices, axis=0)\n",
        "    return data\n",
        "\n",
        "\n",
        "\n",
        "with open('Climate_SPI.csv', newline='') as csvfile:\n",
        "    data = list(csv.reader(csvfile))\n",
        "\n",
        "data = drought(data)\n",
        "print(data[0])\n",
        "print(lineCount(data))\n",
        "checkNonFloatNonNP(data)\n",
        "print(lineCount(data))\n",
        "#np array of data\n",
        "data = np.array(data)\n",
        "#preprossing 1, get rid of rows that contain empty values or non numeric values\n",
        "\n",
        "#data = check_np_empty_nonNum_values(data)\n",
        "print(lineCount(data))\n",
        "data = data.astype(float)\n",
        "#(b) Split your data into training, validation and test sets.\n",
        "#split data into 80% training, 10% validation and 10% test, shuffle data\n",
        "\n",
        "#np.random.shuffle(data)\n",
        "\n",
        "#outliers = detect_outliers(data)\n",
        "#print(outliers)\n",
        "\n",
        "\n",
        "\n",
        "data = removeOutliers(data, forbiddenColumns)\n",
        "\n",
        "print(lineCount(data))\n",
        "print(data[999])\n",
        "data = filterInvalidMonthsNP(data)\n",
        "data = noIncludeInfinites(data)\n",
        "data = normaliseMonth(data)\n",
        "print(lineCount(data))\n",
        "print(data[999])\n",
        "\n",
        "#np.random.shuffle(data)\n",
        "\n",
        "\n",
        "\n",
        "\n",
        "data = filterInvalidMonthsNP(data)\n",
        "print(lineCount(data))\n",
        "\n",
        "\n",
        "\n",
        "train_data = data[:int(0.8*len(data))]\n",
        "val_data = data[int(0.8*len(data)):int(0.9*len(data))]\n",
        "test_data = data[int(0.9*len(data)):]\n",
        "\n",
        "print(lineCount(train_data)+lineCount(val_data)+lineCount(test_data))   \n",
        "\n",
        "\n",
        "\n",
        "#print row of each\n",
        "#print(train_data[0])\n",
        "\n",
        "#print data type of each single val\n",
        "#print(type(train_data[2][3]))\n",
        "#(c) Pre-processing: Apply any necessary transformation to the trainingset, then apply the same transformation to the validation and test sets.\n",
        "#convert data to float\n",
        "\n",
        "#print(train_data[0])\n",
        "#check for any empty values and non numeric values in a row and delete the row \n",
        "\n",
        "'''\n",
        "def check_empty_values(data):\n",
        "    \n",
        "    \n",
        "check_empty_values(train_data)\n",
        "check_empty_values(val_data)    \n",
        "check_empty_values(test_data)\n",
        "'''\n",
        "#– Normalise the month to the range [0, 2π] using: month normalised = 2π× (month - 1)/12., \n",
        "# replace ’month’ with two new predictors: ‘cos(month normalised)’ and ‘sin(month normalised)’.\n",
        "#Data [['year', 'month', 'u10', 'v10', 'mx2t', 'mn2t', 'tcc', 't2', 'msl', 't', 'q', 'u', 'v', 'z', 'SPI', 'grid_ID','Drought', 'cosMonthNorm', 'sinMonthNorm],...]\n",
        "\n",
        "\n",
        "#print(train_data[0])\n",
        "\n",
        "#train_data = normaliseMonth(train_data)\n",
        "#val_data = normaliseMonth(val_data)\n",
        "#test_data = normaliseMonth(test_data)\n",
        "#print(type(train_data[0][0]))\n",
        "#print(train_data[0])\n",
        "\n",
        "\n",
        "\n",
        "\n"
      ]
    },
    {
      "cell_type": "code",
      "execution_count": 3,
      "metadata": {
        "colab": {
          "base_uri": "https://localhost:8080/"
        },
        "id": "AZ68N4WmoQMd",
        "outputId": "6f3d7994-9fcf-4b85-8b5a-0d2cbd448368"
      },
      "outputs": [
        {
          "name": "stdout",
          "output_type": "stream",
          "text": [
            "\u001b[1m1/1\u001b[0m \u001b[32m━━━━━━━━━━━━━━━━━━━━\u001b[0m\u001b[37m\u001b[0m \u001b[1m0s\u001b[0m 28ms/step\n"
          ]
        },
        {
          "name": "stderr",
          "output_type": "stream",
          "text": [
            "/opt/anaconda3/envs/assignment1/lib/python3.12/site-packages/keras/src/layers/core/dense.py:87: UserWarning: Do not pass an `input_shape`/`input_dim` argument to a layer. When using Sequential models, prefer using an `Input(shape)` object as the first layer in the model instead.\n",
            "  super().__init__(activity_regularizer=activity_regularizer, **kwargs)\n"
          ]
        }
      ],
      "source": [
        "#Creating the neural network with TF\n",
        "nnet = Sequential()\n",
        "nnet.add(Dense(1, input_dim=2, activation='tanh'))\n",
        "nnet.add(Dense(1, activation='linear'))\n",
        "\n",
        "#Learning algorithm and learning rate\n",
        "nnet.compile(loss='mean_squared_error', optimizer=SGD(learning_rate=0.01))\n",
        "\n",
        "#Feedforward propagation, i.e., network output without training\n",
        "ye = nnet.predict(x)"
      ]
    },
    {
      "cell_type": "code",
      "execution_count": 4,
      "metadata": {
        "colab": {
          "base_uri": "https://localhost:8080/",
          "height": 452
        },
        "id": "ePVWMQkcokh9",
        "outputId": "1bb1961d-2de5-4c42-c777-5c640707dc8b"
      },
      "outputs": [
        {
          "data": {
            "image/png": "[encoded data removed]",
            "text/plain": [
              "<Figure size 640x480 with 1 Axes>"
            ]
          },
          "metadata": {},
          "output_type": "display_data"
        }
      ],
      "source": [
        "#Plotting network output without training\n",
        "i=np.arange(1,5)\n",
        "plt.plot(i,t,'r*-',label='Target')\n",
        "plt.plot(i,ye,'k+-',label='Output')\n",
        "plt.title('Network output without training')\n",
        "plt.legend()\n",
        "plt.show()"
      ]
    },
    {
      "cell_type": "code",
      "execution_count": 5,
      "metadata": {
        "colab": {
          "base_uri": "https://localhost:8080/"
        },
        "id": "jGn3D95youGc",
        "outputId": "8a5a0779-2687-4a79-c3b8-17b6d6e4bc00"
      },
      "outputs": [
        {
          "data": {
            "text/plain": [
              "<keras.src.callbacks.history.History at 0x315d042f0>"
            ]
          },
          "execution_count": 5,
          "metadata": {},
          "output_type": "execute_result"
        }
      ],
      "source": [
        "#Training the neural network\n",
        "nnet.fit(np.array(x), np.array(t), batch_size=4, epochs = 500, verbose=0)"
      ]
    },
    {
      "cell_type": "code",
      "execution_count": 6,
      "metadata": {
        "colab": {
          "base_uri": "https://localhost:8080/",
          "height": 470
        },
        "id": "peu_u8WIpCbU",
        "outputId": "1a0b6059-f68b-4a85-d44f-12ddb4cf1adc"
      },
      "outputs": [
        {
          "name": "stdout",
          "output_type": "stream",
          "text": [
            "\u001b[1m1/1\u001b[0m \u001b[32m━━━━━━━━━━━━━━━━━━━━\u001b[0m\u001b[37m\u001b[0m \u001b[1m0s\u001b[0m 11ms/step\n"
          ]
        },
        {
          "data": {
            "image/png": "[encoded data removed]",
            "text/plain": [
              "<Figure size 640x480 with 1 Axes>"
            ]
          },
          "metadata": {},
          "output_type": "display_data"
        }
      ],
      "source": [
        "#Feedforward propagation, i.e., network output with training\n",
        "yt = nnet.predict(x)\n",
        "\n",
        "#Plotting network output with training\n",
        "plt.plot(i,t,'r*-',label='Target')\n",
        "plt.plot(i,yt,'k+-',label='Output')\n",
        "plt.title('Network output with training')\n",
        "plt.legend()\n",
        "plt.show()\n"
      ]
    }
  ],
  "metadata": {
    "colab": {
      "provenance": []
    },
    "kernelspec": {
      "display_name": "assignment1",
      "language": "python",
      "name": "python3"
    },
    "language_info": {
      "codemirror_mode": {
        "name": "ipython",
        "version": 3
      },
      "file_extension": ".py",
      "mimetype": "text/x-python",
      "name": "python",
      "nbconvert_exporter": "python",
      "pygments_lexer": "ipython3",
      "version": "3.12.2"
    }
  },
  "nbformat": 4,
  "nbformat_minor": 0
}
